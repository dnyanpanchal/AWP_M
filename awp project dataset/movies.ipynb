{
 "cells": [
  {
   "cell_type": "code",
   "execution_count": 2,
   "id": "4a98db26-c5f9-473b-b1f4-5993b0546dbe",
   "metadata": {},
   "outputs": [],
   "source": [
    "## importing numpy and pandas\n",
    "import numpy as np\n",
    "import pandas as pd"
   ]
  },
  {
   "cell_type": "code",
   "execution_count": 46,
   "id": "55d6536f-3c45-406f-907b-e5f2ae628cd5",
   "metadata": {},
   "outputs": [
    {
     "data": {
      "text/html": [
       "<div>\n",
       "<style scoped>\n",
       "    .dataframe tbody tr th:only-of-type {\n",
       "        vertical-align: middle;\n",
       "    }\n",
       "\n",
       "    .dataframe tbody tr th {\n",
       "        vertical-align: top;\n",
       "    }\n",
       "\n",
       "    .dataframe thead th {\n",
       "        text-align: right;\n",
       "    }\n",
       "</style>\n",
       "<table border=\"1\" class=\"dataframe\">\n",
       "  <thead>\n",
       "    <tr style=\"text-align: right;\">\n",
       "      <th></th>\n",
       "      <th>Film</th>\n",
       "      <th>Genre</th>\n",
       "      <th>Rotten Tomatoes Ratings %</th>\n",
       "      <th>Audience Ratings %</th>\n",
       "      <th>Budget (million $)</th>\n",
       "      <th>Year of release</th>\n",
       "    </tr>\n",
       "  </thead>\n",
       "  <tbody>\n",
       "    <tr>\n",
       "      <th>0</th>\n",
       "      <td>(500) Days of Summer</td>\n",
       "      <td>Comedy</td>\n",
       "      <td>87</td>\n",
       "      <td>81</td>\n",
       "      <td>8</td>\n",
       "      <td>2009</td>\n",
       "    </tr>\n",
       "    <tr>\n",
       "      <th>1</th>\n",
       "      <td>10,000 B.C.</td>\n",
       "      <td>Adventure</td>\n",
       "      <td>9</td>\n",
       "      <td>44</td>\n",
       "      <td>105</td>\n",
       "      <td>2008</td>\n",
       "    </tr>\n",
       "    <tr>\n",
       "      <th>2</th>\n",
       "      <td>12 Rounds</td>\n",
       "      <td>Action</td>\n",
       "      <td>30</td>\n",
       "      <td>52</td>\n",
       "      <td>20</td>\n",
       "      <td>2009</td>\n",
       "    </tr>\n",
       "    <tr>\n",
       "      <th>3</th>\n",
       "      <td>127 Hours</td>\n",
       "      <td>Adventure</td>\n",
       "      <td>93</td>\n",
       "      <td>84</td>\n",
       "      <td>18</td>\n",
       "      <td>2010</td>\n",
       "    </tr>\n",
       "    <tr>\n",
       "      <th>4</th>\n",
       "      <td>17 Again</td>\n",
       "      <td>Comedy</td>\n",
       "      <td>55</td>\n",
       "      <td>70</td>\n",
       "      <td>20</td>\n",
       "      <td>2009</td>\n",
       "    </tr>\n",
       "  </tbody>\n",
       "</table>\n",
       "</div>"
      ],
      "text/plain": [
       "                    Film      Genre  Rotten Tomatoes Ratings %  \\\n",
       "0  (500) Days of Summer      Comedy                         87   \n",
       "1            10,000 B.C.  Adventure                          9   \n",
       "2             12 Rounds      Action                         30   \n",
       "3              127 Hours  Adventure                         93   \n",
       "4              17 Again      Comedy                         55   \n",
       "\n",
       "   Audience Ratings %  Budget (million $)  Year of release  \n",
       "0                  81                   8             2009  \n",
       "1                  44                 105             2008  \n",
       "2                  52                  20             2009  \n",
       "3                  84                  18             2010  \n",
       "4                  70                  20             2009  "
      ]
     },
     "execution_count": 46,
     "metadata": {},
     "output_type": "execute_result"
    }
   ],
   "source": [
    "##reading csv file:\n",
    "df=pd.read_csv(\"Movie-Rating.csv\")\n",
    "df.head()"
   ]
  },
  {
   "cell_type": "code",
   "execution_count": 64,
   "id": "d273a5e4-342d-4733-ad0c-c7bb09131b89",
   "metadata": {},
   "outputs": [
    {
     "data": {
      "text/html": [
       "<div>\n",
       "<style scoped>\n",
       "    .dataframe tbody tr th:only-of-type {\n",
       "        vertical-align: middle;\n",
       "    }\n",
       "\n",
       "    .dataframe tbody tr th {\n",
       "        vertical-align: top;\n",
       "    }\n",
       "\n",
       "    .dataframe thead th {\n",
       "        text-align: right;\n",
       "    }\n",
       "</style>\n",
       "<table border=\"1\" class=\"dataframe\">\n",
       "  <thead>\n",
       "    <tr style=\"text-align: right;\">\n",
       "      <th></th>\n",
       "      <th>Film</th>\n",
       "      <th>Genre</th>\n",
       "      <th>Rotten Tomatoes Ratings %</th>\n",
       "      <th>Audience Ratings %</th>\n",
       "      <th>Budget (million $)</th>\n",
       "      <th>Year of release</th>\n",
       "    </tr>\n",
       "  </thead>\n",
       "  <tbody>\n",
       "    <tr>\n",
       "      <th>554</th>\n",
       "      <td>Your Highness</td>\n",
       "      <td>Comedy</td>\n",
       "      <td>26</td>\n",
       "      <td>36</td>\n",
       "      <td>50</td>\n",
       "      <td>2011</td>\n",
       "    </tr>\n",
       "    <tr>\n",
       "      <th>555</th>\n",
       "      <td>Youth in Revolt</td>\n",
       "      <td>Comedy</td>\n",
       "      <td>68</td>\n",
       "      <td>52</td>\n",
       "      <td>18</td>\n",
       "      <td>2009</td>\n",
       "    </tr>\n",
       "    <tr>\n",
       "      <th>556</th>\n",
       "      <td>Zodiac</td>\n",
       "      <td>Thriller</td>\n",
       "      <td>89</td>\n",
       "      <td>73</td>\n",
       "      <td>65</td>\n",
       "      <td>2007</td>\n",
       "    </tr>\n",
       "    <tr>\n",
       "      <th>557</th>\n",
       "      <td>Zombieland</td>\n",
       "      <td>Action</td>\n",
       "      <td>90</td>\n",
       "      <td>87</td>\n",
       "      <td>24</td>\n",
       "      <td>2009</td>\n",
       "    </tr>\n",
       "    <tr>\n",
       "      <th>558</th>\n",
       "      <td>Zookeeper</td>\n",
       "      <td>Comedy</td>\n",
       "      <td>14</td>\n",
       "      <td>42</td>\n",
       "      <td>80</td>\n",
       "      <td>2011</td>\n",
       "    </tr>\n",
       "  </tbody>\n",
       "</table>\n",
       "</div>"
      ],
      "text/plain": [
       "                Film     Genre  Rotten Tomatoes Ratings %  Audience Ratings %  \\\n",
       "554    Your Highness    Comedy                         26                  36   \n",
       "555  Youth in Revolt    Comedy                         68                  52   \n",
       "556           Zodiac  Thriller                         89                  73   \n",
       "557      Zombieland     Action                         90                  87   \n",
       "558        Zookeeper    Comedy                         14                  42   \n",
       "\n",
       "     Budget (million $)  Year of release  \n",
       "554                  50             2011  \n",
       "555                  18             2009  \n",
       "556                  65             2007  \n",
       "557                  24             2009  \n",
       "558                  80             2011  "
      ]
     },
     "execution_count": 64,
     "metadata": {},
     "output_type": "execute_result"
    }
   ],
   "source": [
    "# checking last 5 valuesd from the given data:\n",
    "df.tail()"
   ]
  },
  {
   "cell_type": "code",
   "execution_count": 6,
   "id": "e7b51d58-a597-4bef-a9e6-234e1f5004d6",
   "metadata": {},
   "outputs": [
    {
     "data": {
      "text/plain": [
       "(559, 6)"
      ]
     },
     "execution_count": 6,
     "metadata": {},
     "output_type": "execute_result"
    }
   ],
   "source": [
    "# Checking rows and column\n",
    "df.shape"
   ]
  },
  {
   "cell_type": "code",
   "execution_count": 7,
   "id": "8f36d121-f890-4180-b74a-cb5b24730dab",
   "metadata": {},
   "outputs": [
    {
     "data": {
      "text/plain": [
       "3354"
      ]
     },
     "execution_count": 7,
     "metadata": {},
     "output_type": "execute_result"
    }
   ],
   "source": [
    "# cheking the size or total entries in the given dataset:\n",
    "df.size"
   ]
  },
  {
   "cell_type": "code",
   "execution_count": 8,
   "id": "2261267e-48f0-49cd-9132-d9bbe4cd5b7a",
   "metadata": {},
   "outputs": [
    {
     "name": "stdout",
     "output_type": "stream",
     "text": [
      "<class 'pandas.core.frame.DataFrame'>\n",
      "RangeIndex: 559 entries, 0 to 558\n",
      "Data columns (total 6 columns):\n",
      " #   Column                     Non-Null Count  Dtype \n",
      "---  ------                     --------------  ----- \n",
      " 0   Film                       559 non-null    object\n",
      " 1   Genre                      559 non-null    object\n",
      " 2   Rotten Tomatoes Ratings %  559 non-null    int64 \n",
      " 3   Audience Ratings %         559 non-null    int64 \n",
      " 4   Budget (million $)         559 non-null    int64 \n",
      " 5   Year of release            559 non-null    int64 \n",
      "dtypes: int64(4), object(2)\n",
      "memory usage: 26.3+ KB\n"
     ]
    }
   ],
   "source": [
    "# checking detaied info of the given dataset:\n",
    "df.info()"
   ]
  },
  {
   "cell_type": "code",
   "execution_count": 9,
   "id": "b426441f-2ea6-46fa-9521-1d12b38126c4",
   "metadata": {},
   "outputs": [
    {
     "data": {
      "text/plain": [
       "Film                         0\n",
       "Genre                        0\n",
       "Rotten Tomatoes Ratings %    0\n",
       "Audience Ratings %           0\n",
       "Budget (million $)           0\n",
       "Year of release              0\n",
       "dtype: int64"
      ]
     },
     "execution_count": 9,
     "metadata": {},
     "output_type": "execute_result"
    }
   ],
   "source": [
    "# checking total number of missing values\n",
    "df.isnull().sum()"
   ]
  },
  {
   "cell_type": "markdown",
   "id": "fd45211c-47f9-4b9f-97d6-6cbe10d386f4",
   "metadata": {},
   "source": [
    "- in a above case there is no missing val \n",
    "- if there is any missing values in the case then we xcan handle it like\n",
    "- by using s.isnull() we can see the there is any missing values are present or not\n",
    "- then we can use s.isnul().sum() to count the how many missing val are there.\n",
    "- then we can find their missing values by col or by features name\n",
    "- then by using s.filna() methodwe can fill he missing values by backword and forword(s.fillna(method=\"ffill\"))\n",
    "- then we can fill tha all values by zero or we can use catagorical values\n",
    "- or we can drop the missing values col by using s.dropna method"
   ]
  },
  {
   "cell_type": "code",
   "execution_count": 11,
   "id": "5560360e-1c56-4510-81c6-07dec79c8e38",
   "metadata": {},
   "outputs": [
    {
     "data": {
      "text/html": [
       "<div>\n",
       "<style scoped>\n",
       "    .dataframe tbody tr th:only-of-type {\n",
       "        vertical-align: middle;\n",
       "    }\n",
       "\n",
       "    .dataframe tbody tr th {\n",
       "        vertical-align: top;\n",
       "    }\n",
       "\n",
       "    .dataframe thead th {\n",
       "        text-align: right;\n",
       "    }\n",
       "</style>\n",
       "<table border=\"1\" class=\"dataframe\">\n",
       "  <thead>\n",
       "    <tr style=\"text-align: right;\">\n",
       "      <th></th>\n",
       "      <th>Rotten Tomatoes Ratings %</th>\n",
       "      <th>Audience Ratings %</th>\n",
       "      <th>Budget (million $)</th>\n",
       "      <th>Year of release</th>\n",
       "    </tr>\n",
       "  </thead>\n",
       "  <tbody>\n",
       "    <tr>\n",
       "      <th>Rotten Tomatoes Ratings %</th>\n",
       "      <td>1.000000</td>\n",
       "      <td>0.654803</td>\n",
       "      <td>0.014071</td>\n",
       "      <td>0.050674</td>\n",
       "    </tr>\n",
       "    <tr>\n",
       "      <th>Audience Ratings %</th>\n",
       "      <td>0.654803</td>\n",
       "      <td>1.000000</td>\n",
       "      <td>0.191108</td>\n",
       "      <td>-0.060985</td>\n",
       "    </tr>\n",
       "    <tr>\n",
       "      <th>Budget (million $)</th>\n",
       "      <td>0.014071</td>\n",
       "      <td>0.191108</td>\n",
       "      <td>1.000000</td>\n",
       "      <td>-0.019622</td>\n",
       "    </tr>\n",
       "    <tr>\n",
       "      <th>Year of release</th>\n",
       "      <td>0.050674</td>\n",
       "      <td>-0.060985</td>\n",
       "      <td>-0.019622</td>\n",
       "      <td>1.000000</td>\n",
       "    </tr>\n",
       "  </tbody>\n",
       "</table>\n",
       "</div>"
      ],
      "text/plain": [
       "                           Rotten Tomatoes Ratings %  Audience Ratings %  \\\n",
       "Rotten Tomatoes Ratings %                   1.000000            0.654803   \n",
       "Audience Ratings %                          0.654803            1.000000   \n",
       "Budget (million $)                          0.014071            0.191108   \n",
       "Year of release                             0.050674           -0.060985   \n",
       "\n",
       "                           Budget (million $)  Year of release  \n",
       "Rotten Tomatoes Ratings %            0.014071         0.050674  \n",
       "Audience Ratings %                   0.191108        -0.060985  \n",
       "Budget (million $)                   1.000000        -0.019622  \n",
       "Year of release                     -0.019622         1.000000  "
      ]
     },
     "execution_count": 11,
     "metadata": {},
     "output_type": "execute_result"
    }
   ],
   "source": [
    "# checking corelation by using .corr():\n",
    "df.corr(method='pearson')"
   ]
  },
  {
   "cell_type": "code",
   "execution_count": 49,
   "id": "97eb47fd-939d-4058-a89f-5297dd44354d",
   "metadata": {},
   "outputs": [
    {
     "data": {
      "image/png": "[encoded data removed]",
      "text/plain": [
       "<Figure size 864x576 with 2 Axes>"
      ]
     },
     "metadata": {
      "needs_background": "light"
     },
     "output_type": "display_data"
    }
   ],
   "source": [
    "fig=plt.figure(figsize=(12,8))\n",
    "ax = sns.heatmap(df.corr(), annot=True, fmt=\".2f\")"
   ]
  },
  {
   "cell_type": "code",
   "execution_count": 12,
   "id": "e4462de3-29de-4cd1-9491-fa070d80fe9f",
   "metadata": {},
   "outputs": [
    {
     "data": {
      "text/html": [
       "<div>\n",
       "<style scoped>\n",
       "    .dataframe tbody tr th:only-of-type {\n",
       "        vertical-align: middle;\n",
       "    }\n",
       "\n",
       "    .dataframe tbody tr th {\n",
       "        vertical-align: top;\n",
       "    }\n",
       "\n",
       "    .dataframe thead th {\n",
       "        text-align: right;\n",
       "    }\n",
       "</style>\n",
       "<table border=\"1\" class=\"dataframe\">\n",
       "  <thead>\n",
       "    <tr style=\"text-align: right;\">\n",
       "      <th></th>\n",
       "      <th>Rotten Tomatoes Ratings %</th>\n",
       "      <th>Audience Ratings %</th>\n",
       "      <th>Budget (million $)</th>\n",
       "      <th>Year of release</th>\n",
       "    </tr>\n",
       "  </thead>\n",
       "  <tbody>\n",
       "    <tr>\n",
       "      <th>count</th>\n",
       "      <td>559.000000</td>\n",
       "      <td>559.000000</td>\n",
       "      <td>559.000000</td>\n",
       "      <td>559.000000</td>\n",
       "    </tr>\n",
       "    <tr>\n",
       "      <th>mean</th>\n",
       "      <td>47.309481</td>\n",
       "      <td>58.744186</td>\n",
       "      <td>50.236136</td>\n",
       "      <td>2009.152057</td>\n",
       "    </tr>\n",
       "    <tr>\n",
       "      <th>std</th>\n",
       "      <td>26.413091</td>\n",
       "      <td>16.826887</td>\n",
       "      <td>48.731817</td>\n",
       "      <td>1.362632</td>\n",
       "    </tr>\n",
       "    <tr>\n",
       "      <th>min</th>\n",
       "      <td>0.000000</td>\n",
       "      <td>0.000000</td>\n",
       "      <td>0.000000</td>\n",
       "      <td>2007.000000</td>\n",
       "    </tr>\n",
       "    <tr>\n",
       "      <th>25%</th>\n",
       "      <td>25.000000</td>\n",
       "      <td>47.000000</td>\n",
       "      <td>20.000000</td>\n",
       "      <td>2008.000000</td>\n",
       "    </tr>\n",
       "    <tr>\n",
       "      <th>50%</th>\n",
       "      <td>46.000000</td>\n",
       "      <td>58.000000</td>\n",
       "      <td>35.000000</td>\n",
       "      <td>2009.000000</td>\n",
       "    </tr>\n",
       "    <tr>\n",
       "      <th>75%</th>\n",
       "      <td>70.000000</td>\n",
       "      <td>72.000000</td>\n",
       "      <td>65.000000</td>\n",
       "      <td>2010.000000</td>\n",
       "    </tr>\n",
       "    <tr>\n",
       "      <th>max</th>\n",
       "      <td>97.000000</td>\n",
       "      <td>96.000000</td>\n",
       "      <td>300.000000</td>\n",
       "      <td>2011.000000</td>\n",
       "    </tr>\n",
       "  </tbody>\n",
       "</table>\n",
       "</div>"
      ],
      "text/plain": [
       "       Rotten Tomatoes Ratings %  Audience Ratings %  Budget (million $)  \\\n",
       "count                 559.000000          559.000000          559.000000   \n",
       "mean                   47.309481           58.744186           50.236136   \n",
       "std                    26.413091           16.826887           48.731817   \n",
       "min                     0.000000            0.000000            0.000000   \n",
       "25%                    25.000000           47.000000           20.000000   \n",
       "50%                    46.000000           58.000000           35.000000   \n",
       "75%                    70.000000           72.000000           65.000000   \n",
       "max                    97.000000           96.000000          300.000000   \n",
       "\n",
       "       Year of release  \n",
       "count       559.000000  \n",
       "mean       2009.152057  \n",
       "std           1.362632  \n",
       "min        2007.000000  \n",
       "25%        2008.000000  \n",
       "50%        2009.000000  \n",
       "75%        2010.000000  \n",
       "max        2011.000000  "
      ]
     },
     "execution_count": 12,
     "metadata": {},
     "output_type": "execute_result"
    }
   ],
   "source": [
    "df.describe()"
   ]
  },
  {
   "cell_type": "code",
   "execution_count": 11,
   "id": "8b3e3405-22bf-41c5-bb23-e7595f41b48f",
   "metadata": {},
   "outputs": [
    {
     "name": "stderr",
     "output_type": "stream",
     "text": [
      "C:\\Users\\Admin\\AppData\\Local\\Temp/ipykernel_11180/3698961737.py:1: FutureWarning: Dropping of nuisance columns in DataFrame reductions (with 'numeric_only=None') is deprecated; in a future version this will raise TypeError.  Select only valid columns before calling the reduction.\n",
      "  df.mean()\n"
     ]
    },
    {
     "data": {
      "text/plain": [
       "Rotten Tomatoes Ratings %      47.309481\n",
       "Audience Ratings %             58.744186\n",
       "Budget (million $)             50.236136\n",
       "Year of release              2009.152057\n",
       "dtype: float64"
      ]
     },
     "execution_count": 11,
     "metadata": {},
     "output_type": "execute_result"
    }
   ],
   "source": [
    "# cheking mean value from the given dataset:\n",
    "df.mean()"
   ]
  },
  {
   "cell_type": "code",
   "execution_count": 12,
   "id": "7efd2ec2-219a-4042-9f54-8d53f1da9348",
   "metadata": {},
   "outputs": [
    {
     "name": "stderr",
     "output_type": "stream",
     "text": [
      "C:\\Users\\Admin\\AppData\\Local\\Temp/ipykernel_11180/530051474.py:1: FutureWarning: Dropping of nuisance columns in DataFrame reductions (with 'numeric_only=None') is deprecated; in a future version this will raise TypeError.  Select only valid columns before calling the reduction.\n",
      "  df.median()\n"
     ]
    },
    {
     "data": {
      "text/plain": [
       "Rotten Tomatoes Ratings %      46.0\n",
       "Audience Ratings %             58.0\n",
       "Budget (million $)             35.0\n",
       "Year of release              2009.0\n",
       "dtype: float64"
      ]
     },
     "execution_count": 12,
     "metadata": {},
     "output_type": "execute_result"
    }
   ],
   "source": [
    "# cheking median values values fro the given dataset:\n",
    "df.median()"
   ]
  },
  {
   "cell_type": "code",
   "execution_count": 52,
   "id": "f8aa0b7f-ec83-432a-8253-9eb8ec43982d",
   "metadata": {},
   "outputs": [
    {
     "data": {
      "text/html": [
       "<div>\n",
       "<style scoped>\n",
       "    .dataframe tbody tr th:only-of-type {\n",
       "        vertical-align: middle;\n",
       "    }\n",
       "\n",
       "    .dataframe tbody tr th {\n",
       "        vertical-align: top;\n",
       "    }\n",
       "\n",
       "    .dataframe thead th {\n",
       "        text-align: right;\n",
       "    }\n",
       "</style>\n",
       "<table border=\"1\" class=\"dataframe\">\n",
       "  <thead>\n",
       "    <tr style=\"text-align: right;\">\n",
       "      <th></th>\n",
       "      <th>Rotten Tomatoes Ratings %</th>\n",
       "      <th>Audience Ratings %</th>\n",
       "      <th>Budget (million $)</th>\n",
       "    </tr>\n",
       "    <tr>\n",
       "      <th>Year of release</th>\n",
       "      <th></th>\n",
       "      <th></th>\n",
       "      <th></th>\n",
       "    </tr>\n",
       "  </thead>\n",
       "  <tbody>\n",
       "    <tr>\n",
       "      <th>2007</th>\n",
       "      <td>3931</td>\n",
       "      <td>5247</td>\n",
       "      <td>4571</td>\n",
       "    </tr>\n",
       "    <tr>\n",
       "      <th>2008</th>\n",
       "      <td>5415</td>\n",
       "      <td>7005</td>\n",
       "      <td>5726</td>\n",
       "    </tr>\n",
       "    <tr>\n",
       "      <th>2009</th>\n",
       "      <td>5231</td>\n",
       "      <td>6430</td>\n",
       "      <td>5581</td>\n",
       "    </tr>\n",
       "    <tr>\n",
       "      <th>2010</th>\n",
       "      <td>5422</td>\n",
       "      <td>6600</td>\n",
       "      <td>5997</td>\n",
       "    </tr>\n",
       "    <tr>\n",
       "      <th>2011</th>\n",
       "      <td>6447</td>\n",
       "      <td>7556</td>\n",
       "      <td>6207</td>\n",
       "    </tr>\n",
       "  </tbody>\n",
       "</table>\n",
       "</div>"
      ],
      "text/plain": [
       "                 Rotten Tomatoes Ratings %  Audience Ratings %  \\\n",
       "Year of release                                                  \n",
       "2007                                  3931                5247   \n",
       "2008                                  5415                7005   \n",
       "2009                                  5231                6430   \n",
       "2010                                  5422                6600   \n",
       "2011                                  6447                7556   \n",
       "\n",
       "                 Budget (million $)  \n",
       "Year of release                      \n",
       "2007                           4571  \n",
       "2008                           5726  \n",
       "2009                           5581  \n",
       "2010                           5997  \n",
       "2011                           6207  "
      ]
     },
     "execution_count": 52,
     "metadata": {},
     "output_type": "execute_result"
    }
   ],
   "source": [
    "df.groupby('Year of release').sum()"
   ]
  },
  {
   "cell_type": "code",
   "execution_count": 56,
   "id": "5ae41771-e536-4d76-9ce7-4760fbbe6e26",
   "metadata": {},
   "outputs": [
    {
     "data": {
      "text/html": [
       "<div>\n",
       "<style scoped>\n",
       "    .dataframe tbody tr th:only-of-type {\n",
       "        vertical-align: middle;\n",
       "    }\n",
       "\n",
       "    .dataframe tbody tr th {\n",
       "        vertical-align: top;\n",
       "    }\n",
       "\n",
       "    .dataframe thead th {\n",
       "        text-align: right;\n",
       "    }\n",
       "</style>\n",
       "<table border=\"1\" class=\"dataframe\">\n",
       "  <thead>\n",
       "    <tr style=\"text-align: right;\">\n",
       "      <th></th>\n",
       "      <th>Rotten Tomatoes Ratings %</th>\n",
       "      <th>Audience Ratings %</th>\n",
       "      <th>Budget (million $)</th>\n",
       "      <th>Year of release</th>\n",
       "    </tr>\n",
       "    <tr>\n",
       "      <th>Genre</th>\n",
       "      <th></th>\n",
       "      <th></th>\n",
       "      <th></th>\n",
       "      <th></th>\n",
       "    </tr>\n",
       "  </thead>\n",
       "  <tbody>\n",
       "    <tr>\n",
       "      <th>Action</th>\n",
       "      <td>6838</td>\n",
       "      <td>9043</td>\n",
       "      <td>13033</td>\n",
       "      <td>309418</td>\n",
       "    </tr>\n",
       "    <tr>\n",
       "      <th>Adventure</th>\n",
       "      <td>1540</td>\n",
       "      <td>1819</td>\n",
       "      <td>2363</td>\n",
       "      <td>58256</td>\n",
       "    </tr>\n",
       "    <tr>\n",
       "      <th>Comedy</th>\n",
       "      <td>7726</td>\n",
       "      <td>9702</td>\n",
       "      <td>6211</td>\n",
       "      <td>345560</td>\n",
       "    </tr>\n",
       "    <tr>\n",
       "      <th>Drama</th>\n",
       "      <td>5704</td>\n",
       "      <td>6507</td>\n",
       "      <td>2813</td>\n",
       "      <td>202937</td>\n",
       "    </tr>\n",
       "    <tr>\n",
       "      <th>Horror</th>\n",
       "      <td>1694</td>\n",
       "      <td>2322</td>\n",
       "      <td>1062</td>\n",
       "      <td>98447</td>\n",
       "    </tr>\n",
       "    <tr>\n",
       "      <th>Romance</th>\n",
       "      <td>817</td>\n",
       "      <td>1084</td>\n",
       "      <td>632</td>\n",
       "      <td>36175</td>\n",
       "    </tr>\n",
       "    <tr>\n",
       "      <th>Thriller</th>\n",
       "      <td>2127</td>\n",
       "      <td>2361</td>\n",
       "      <td>1968</td>\n",
       "      <td>72323</td>\n",
       "    </tr>\n",
       "  </tbody>\n",
       "</table>\n",
       "</div>"
      ],
      "text/plain": [
       "           Rotten Tomatoes Ratings %  Audience Ratings %  Budget (million $)  \\\n",
       "Genre                                                                          \n",
       "Action                          6838                9043               13033   \n",
       "Adventure                       1540                1819                2363   \n",
       "Comedy                          7726                9702                6211   \n",
       "Drama                           5704                6507                2813   \n",
       "Horror                          1694                2322                1062   \n",
       "Romance                          817                1084                 632   \n",
       "Thriller                        2127                2361                1968   \n",
       "\n",
       "           Year of release  \n",
       "Genre                       \n",
       "Action              309418  \n",
       "Adventure            58256  \n",
       "Comedy              345560  \n",
       "Drama               202937  \n",
       "Horror               98447  \n",
       "Romance              36175  \n",
       "Thriller             72323  "
      ]
     },
     "execution_count": 56,
     "metadata": {},
     "output_type": "execute_result"
    }
   ],
   "source": [
    "df.groupby('Genre').sum()"
   ]
  },
  {
   "cell_type": "code",
   "execution_count": 15,
   "id": "2dd0c454-1229-459b-bf08-e12306febd57",
   "metadata": {},
   "outputs": [
    {
     "data": {
      "text/plain": [
       "Comedy       172\n",
       "Action       154\n",
       "Drama        101\n",
       "Horror        49\n",
       "Thriller      36\n",
       "Adventure     29\n",
       "Romance       18\n",
       "Name: Genre, dtype: int64"
      ]
     },
     "execution_count": 15,
     "metadata": {},
     "output_type": "execute_result"
    }
   ],
   "source": [
    "## cheking the total values counts:\n",
    "df[\"Genre\"].value_counts()"
   ]
  },
  {
   "cell_type": "markdown",
   "id": "d4a2f901-037a-4c49-bc53-178b8abfb7bb",
   "metadata": {},
   "source": [
    "## EDA :"
   ]
  },
  {
   "cell_type": "markdown",
   "id": "a4dd423d-01a7-44a2-8f30-af40a726c7f6",
   "metadata": {},
   "source": [
    "- **Number of movies release in each year:**"
   ]
  },
  {
   "cell_type": "code",
   "execution_count": 13,
   "id": "3e96b28f-3398-4327-bde3-d726fa8fac7a",
   "metadata": {},
   "outputs": [],
   "source": [
    "## importing some imp library witch is usefull to graph plotting:\n",
    "import matplotlib.pyplot as plt\n",
    "%matplotlib inline\n",
    "import seaborn as sns"
   ]
  },
  {
   "cell_type": "code",
   "execution_count": 14,
   "id": "a05c502c-4bc4-43bf-a021-f353aa4dba02",
   "metadata": {},
   "outputs": [
    {
     "data": {
      "text/plain": [
       "Text(0.5, 1.0, 'MOVIES  vs GENRE')"
      ]
     },
     "execution_count": 14,
     "metadata": {},
     "output_type": "execute_result"
    },
    {
     "data": {
      "image/png": "[encoded data removed]",
      "text/plain": [
       "<Figure size 864x360 with 1 Axes>"
      ]
     },
     "metadata": {
      "needs_background": "light"
     },
     "output_type": "display_data"
    }
   ],
   "source": [
    "plt.figure(figsize=(12,5))\n",
    "sns.countplot(x=df['Genre'],order=df['Genre'].value_counts().index.sort_values(),palette='dark')\n",
    "plt.xlabel('Genre',fontsize=12)\n",
    "plt.ylabel('No: of movies',fontsize=12)\n",
    "plt.title('MOVIES  vs GENRE',fontsize=16)"
   ]
  },
  {
   "cell_type": "markdown",
   "id": "6e6aa63a-c1c7-460e-a473-df3f29a548fa",
   "metadata": {},
   "source": [
    "Observations:\n",
    "\n",
    "         According to the Audience Rantings most of the people like comedy movies..."
   ]
  },
  {
   "cell_type": "code",
   "execution_count": 20,
   "id": "78b1d3d7-6acb-44a8-aeb9-0f863b6ede7f",
   "metadata": {},
   "outputs": [
    {
     "data": {
      "text/plain": [
       "([<matplotlib.patches.Wedge at 0x29c26fa0a30>,\n",
       "  <matplotlib.patches.Wedge at 0x29c26fb4190>,\n",
       "  <matplotlib.patches.Wedge at 0x29c26fb48b0>,\n",
       "  <matplotlib.patches.Wedge at 0x29c26fb4fd0>,\n",
       "  <matplotlib.patches.Wedge at 0x29c26fc0730>,\n",
       "  <matplotlib.patches.Wedge at 0x29c26fc0e50>,\n",
       "  <matplotlib.patches.Wedge at 0x29c26fcf5b0>],\n",
       " [Text(0.6248711888047935, 0.9052822749848162, 'Comedy'),\n",
       "  Text(-1.0359910525893912, 0.36976011001015974, 'Action'),\n",
       "  Text(-0.5084564369146221, -0.9754342887965787, 'Drama'),\n",
       "  Text(0.3900654498212439, -1.0285178388612182, 'Horror'),\n",
       "  Text(0.8192494545611191, -0.7340506325869551, 'Thriller'),\n",
       "  Text(1.027417752332683, -0.39295389321351365, 'Adventure'),\n",
       "  Text(1.0943764227924597, -0.1110866564263214, 'Romance')],\n",
       " [Text(0.3408388302571601, 0.4937903318098996, '30.77%'),\n",
       "  Text(-0.5650860286851224, 0.2016873327328144, '27.55%'),\n",
       "  Text(-0.27733987468070287, -0.5320550666163155, '18.07%'),\n",
       "  Text(0.21276297262976937, -0.5610097302879371, '8.77%'),\n",
       "  Text(0.44686333885151946, -0.4003912541383391, '6.44%'),\n",
       "  Text(0.5604096830905544, -0.21433848720737106, '5.19%'),\n",
       "  Text(0.5969325942504325, -0.06059272168708439, '3.22%')])"
      ]
     },
     "execution_count": 20,
     "metadata": {},
     "output_type": "execute_result"
    },
    {
     "data": {
      "image/png": "[encoded data removed]",
      "text/plain": [
       "<Figure size 1008x504 with 1 Axes>"
      ]
     },
     "metadata": {},
     "output_type": "display_data"
    }
   ],
   "source": [
    "plt.figure(figsize =(14,7))\n",
    "plt.pie(df['Genre'].value_counts(),labels=df['Genre'].value_counts().index,autopct='%1.2f%%')"
   ]
  },
  {
   "cell_type": "markdown",
   "id": "f5b8baa1-2d2c-42e5-be71-5fb84626c146",
   "metadata": {},
   "source": [
    "Observation:\n",
    "       \n",
    "        30.77% of people like comedy movies\n",
    "        27.55% of people like Action movies\n",
    "        3.22% of people like Romantic Movies"
   ]
  },
  {
   "cell_type": "code",
   "execution_count": 23,
   "id": "272143c2-ca77-4c49-880d-442dda1753c9",
   "metadata": {},
   "outputs": [
    {
     "data": {
      "text/plain": [
       "([<matplotlib.patches.Wedge at 0x29c2701baf0>,\n",
       "  <matplotlib.patches.Wedge at 0x29c2702b2b0>,\n",
       "  <matplotlib.patches.Wedge at 0x29c2702b9d0>,\n",
       "  <matplotlib.patches.Wedge at 0x29c270380d0>,\n",
       "  <matplotlib.patches.Wedge at 0x29c270387f0>],\n",
       " [Text(0.8474857539798061, 0.7012616464639142, '2011'),\n",
       "  Text(-0.5248293299828135, 0.9667234218688359, '2008'),\n",
       "  Text(-1.0568561278975968, -0.3050493811259071, '2010'),\n",
       "  Text(0.033995723258231546, -1.0994745521384977, '2009'),\n",
       "  Text(0.9933533479262744, -0.4724924614887122, '2007')],\n",
       " [Text(0.4622649567162578, 0.3825063526166805, '22.00%'),\n",
       "  Text(-0.2862705436269891, 0.5273036846557286, '21.82%'),\n",
       "  Text(-0.5764669788532345, -0.16639057152322204, '21.29%'),\n",
       "  Text(0.018543121777217203, -0.5997133920755441, '20.75%'),\n",
       "  Text(0.5418290988688769, -0.2577231608120248, '14.13%')])"
      ]
     },
     "execution_count": 23,
     "metadata": {},
     "output_type": "execute_result"
    },
    {
     "data": {
      "image/png": "[encoded data removed]",
      "text/plain": [
       "<Figure size 1008x504 with 1 Axes>"
      ]
     },
     "metadata": {},
     "output_type": "display_data"
    }
   ],
   "source": [
    "plt.figure(figsize =(14,7))\n",
    "plt.pie(df['Year of release'].value_counts(),labels=df['Year of release'].value_counts().index,autopct='%1.2f%%')"
   ]
  },
  {
   "cell_type": "markdown",
   "id": "9a467724-4e17-45c3-b618-b8a5669137ee",
   "metadata": {},
   "source": [
    "Observations:\n",
    "    \n",
    "       we can see in this graph avg percentage of movies released."
   ]
  },
  {
   "cell_type": "code",
   "execution_count": 24,
   "id": "d02aca49-7e6b-42f5-bb03-6563d3b425be",
   "metadata": {},
   "outputs": [
    {
     "data": {
      "image/png": "[encoded data removed]",
      "text/plain": [
       "<Figure size 1080x576 with 1 Axes>"
      ]
     },
     "metadata": {
      "needs_background": "light"
     },
     "output_type": "display_data"
    }
   ],
   "source": [
    "plt.figure(figsize=(15,8))\n",
    "X=df['Rotten Tomatoes Ratings %']\n",
    "Y=df['Audience Ratings %']\n",
    "plt.xlabel('Rotten Tomatoes Ratings %',fontsize=15)\n",
    "plt.ylabel('Audience Ratings %',fontsize=15)\n",
    "plt.scatter(X,Y,marker='*')\n",
    "plt.show()"
   ]
  },
  {
   "cell_type": "markdown",
   "id": "dd1d9750-67eb-4253-974d-3fa05544ca0a",
   "metadata": {},
   "source": [
    "Observations:\n",
    "\n",
    "        positive relation between rotten tomatoes rating and audience rating...."
   ]
  },
  {
   "cell_type": "markdown",
   "id": "89337756-cff8-4d96-85a2-2063df9c84f0",
   "metadata": {},
   "source": []
  },
  {
   "cell_type": "code",
   "execution_count": 17,
   "id": "746ad06d-d56b-4f8b-9202-b730467c4630",
   "metadata": {},
   "outputs": [
    {
     "data": {
      "text/html": [
       "<div>\n",
       "<style scoped>\n",
       "    .dataframe tbody tr th:only-of-type {\n",
       "        vertical-align: middle;\n",
       "    }\n",
       "\n",
       "    .dataframe tbody tr th {\n",
       "        vertical-align: top;\n",
       "    }\n",
       "\n",
       "    .dataframe thead th {\n",
       "        text-align: right;\n",
       "    }\n",
       "</style>\n",
       "<table border=\"1\" class=\"dataframe\">\n",
       "  <thead>\n",
       "    <tr style=\"text-align: right;\">\n",
       "      <th></th>\n",
       "      <th>Film</th>\n",
       "      <th>Genre</th>\n",
       "      <th>Rotten Tomatoes Ratings %</th>\n",
       "      <th>Audience Ratings %</th>\n",
       "      <th>Budget (million $)</th>\n",
       "      <th>Year of release</th>\n",
       "    </tr>\n",
       "  </thead>\n",
       "  <tbody>\n",
       "    <tr>\n",
       "      <th>0</th>\n",
       "      <td>(500) Days of Summer</td>\n",
       "      <td>Comedy</td>\n",
       "      <td>87</td>\n",
       "      <td>81</td>\n",
       "      <td>8</td>\n",
       "      <td>2009</td>\n",
       "    </tr>\n",
       "    <tr>\n",
       "      <th>1</th>\n",
       "      <td>10,000 B.C.</td>\n",
       "      <td>Adventure</td>\n",
       "      <td>9</td>\n",
       "      <td>44</td>\n",
       "      <td>105</td>\n",
       "      <td>2008</td>\n",
       "    </tr>\n",
       "    <tr>\n",
       "      <th>2</th>\n",
       "      <td>12 Rounds</td>\n",
       "      <td>Action</td>\n",
       "      <td>30</td>\n",
       "      <td>52</td>\n",
       "      <td>20</td>\n",
       "      <td>2009</td>\n",
       "    </tr>\n",
       "    <tr>\n",
       "      <th>3</th>\n",
       "      <td>127 Hours</td>\n",
       "      <td>Adventure</td>\n",
       "      <td>93</td>\n",
       "      <td>84</td>\n",
       "      <td>18</td>\n",
       "      <td>2010</td>\n",
       "    </tr>\n",
       "    <tr>\n",
       "      <th>4</th>\n",
       "      <td>17 Again</td>\n",
       "      <td>Comedy</td>\n",
       "      <td>55</td>\n",
       "      <td>70</td>\n",
       "      <td>20</td>\n",
       "      <td>2009</td>\n",
       "    </tr>\n",
       "  </tbody>\n",
       "</table>\n",
       "</div>"
      ],
      "text/plain": [
       "                    Film      Genre  Rotten Tomatoes Ratings %  \\\n",
       "0  (500) Days of Summer      Comedy                         87   \n",
       "1            10,000 B.C.  Adventure                          9   \n",
       "2             12 Rounds      Action                         30   \n",
       "3              127 Hours  Adventure                         93   \n",
       "4              17 Again      Comedy                         55   \n",
       "\n",
       "   Audience Ratings %  Budget (million $)  Year of release  \n",
       "0                  81                   8             2009  \n",
       "1                  44                 105             2008  \n",
       "2                  52                  20             2009  \n",
       "3                  84                  18             2010  \n",
       "4                  70                  20             2009  "
      ]
     },
     "execution_count": 17,
     "metadata": {},
     "output_type": "execute_result"
    }
   ],
   "source": [
    "df.head()"
   ]
  },
  {
   "cell_type": "code",
   "execution_count": 57,
   "id": "f465ca4f-1daa-41e7-9331-3c692199551a",
   "metadata": {},
   "outputs": [
    {
     "data": {
      "text/plain": [
       "Comedy       172\n",
       "Action       154\n",
       "Drama        101\n",
       "Horror        49\n",
       "Thriller      36\n",
       "Adventure     29\n",
       "Romance       18\n",
       "Name: Genre, dtype: int64"
      ]
     },
     "execution_count": 57,
     "metadata": {},
     "output_type": "execute_result"
    }
   ],
   "source": [
    "df.Genre.value_counts()"
   ]
  },
  {
   "cell_type": "code",
   "execution_count": 23,
   "id": "c9cca327-84f5-4065-a332-96252b5aa646",
   "metadata": {},
   "outputs": [
    {
     "data": {
      "text/plain": [
       "Comedy       41\n",
       "Action       35\n",
       "Drama        22\n",
       "Horror        9\n",
       "Adventure     8\n",
       "Romance       1\n",
       "Name: Genre, dtype: int64"
      ]
     },
     "execution_count": 23,
     "metadata": {},
     "output_type": "execute_result"
    }
   ],
   "source": [
    "(df[df['Year of release']==2009]['Genre'].value_counts())"
   ]
  },
  {
   "cell_type": "code",
   "execution_count": 28,
   "id": "5d42094f-8a30-4849-b7b4-cf640c34ebac",
   "metadata": {},
   "outputs": [
    {
     "data": {
      "text/plain": [
       "Comedy       41\n",
       "Action       32\n",
       "Drama        19\n",
       "Adventure    11\n",
       "Horror       10\n",
       "Thriller      9\n",
       "Name: Genre, dtype: int64"
      ]
     },
     "execution_count": 28,
     "metadata": {},
     "output_type": "execute_result"
    }
   ],
   "source": [
    "(df[df['Year of release']==2008]['Genre'].value_counts())"
   ]
  },
  {
   "cell_type": "code",
   "execution_count": 31,
   "id": "92ac9baa-4df8-4ae3-8037-d5a07269739d",
   "metadata": {},
   "outputs": [
    {
     "data": {
      "text/plain": [
       "Comedy       22\n",
       "Action       18\n",
       "Drama        12\n",
       "Thriller     11\n",
       "Horror        9\n",
       "Romance       5\n",
       "Adventure     2\n",
       "Name: Genre, dtype: int64"
      ]
     },
     "execution_count": 31,
     "metadata": {},
     "output_type": "execute_result"
    }
   ],
   "source": [
    "(df[df['Year of release']==2007]['Genre'].value_counts())"
   ]
  },
  {
   "cell_type": "code",
   "execution_count": 43,
   "id": "72ced5c5-fc0c-4b60-bec1-f6bc12c9e8d4",
   "metadata": {},
   "outputs": [
    {
     "data": {
      "text/plain": [
       "Comedy       39\n",
       "Action       38\n",
       "Drama        25\n",
       "Horror        8\n",
       "Adventure     6\n",
       "Thriller      2\n",
       "Romance       1\n",
       "Name: Genre, dtype: int64"
      ]
     },
     "execution_count": 43,
     "metadata": {},
     "output_type": "execute_result"
    }
   ],
   "source": [
    "(df[df['Year of release']==2010]['Genre'].value_counts())"
   ]
  },
  {
   "cell_type": "code",
   "execution_count": 45,
   "id": "9089f17c-0c08-476f-b31d-0eaabef23cc2",
   "metadata": {},
   "outputs": [
    {
     "data": {
      "text/plain": [
       "Comedy       39\n",
       "Action       38\n",
       "Drama        25\n",
       "Horror        8\n",
       "Adventure     6\n",
       "Thriller      2\n",
       "Romance       1\n",
       "Name: Genre, dtype: int64"
      ]
     },
     "execution_count": 45,
     "metadata": {},
     "output_type": "execute_result"
    }
   ],
   "source": [
    "(df[df['Year of release']==2011]['Genre'].value_counts())"
   ]
  },
  {
   "cell_type": "code",
   "execution_count": 71,
   "id": "66079c00-9cd4-4695-b1eb-10660ccc8849",
   "metadata": {},
   "outputs": [
    {
     "data": {
      "text/plain": [
       "304    Action\n",
       "Name: Genre, dtype: object"
      ]
     },
     "execution_count": 71,
     "metadata": {},
     "output_type": "execute_result"
    }
   ],
   "source": [
    "df.Genre[df['Budget (million $)']==df['Budget (million $)'].max()]"
   ]
  },
  {
   "cell_type": "markdown",
   "id": "b728f5e5-8dfa-4367-80e4-adadb2ef9556",
   "metadata": {},
   "source": [
    "# Thankyou"
   ]
  },
  {
   "cell_type": "code",
   "execution_count": null,
   "id": "fbbee769-ed55-4c34-a422-bef539d99910",
   "metadata": {},
   "outputs": [],
   "source": []
  }
 ],
 "metadata": {
  "kernelspec": {
   "display_name": "Python 3 (ipykernel)",
   "language": "python",
   "name": "python3"
  },
  "language_info": {
   "codemirror_mode": {
    "name": "ipython",
    "version": 3
   },
   "file_extension": ".py",
   "mimetype": "text/x-python",
   "name": "python",
   "nbconvert_exporter": "python",
   "pygments_lexer": "ipython3",
   "version": "3.9.7"
  }
 },
 "nbformat": 4,
 "nbformat_minor": 5
}
